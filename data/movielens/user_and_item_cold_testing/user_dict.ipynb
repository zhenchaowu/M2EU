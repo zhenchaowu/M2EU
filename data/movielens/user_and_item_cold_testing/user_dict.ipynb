{
 "cells": [
  {
   "cell_type": "code",
   "execution_count": null,
   "id": "4c553ec7",
   "metadata": {},
   "outputs": [],
   "source": [
    "import os\n",
    "import torch\n",
    "import pickle\n",
    "import tqdm\n",
    "import math\n",
    "import json\n",
    "\n",
    "from pandas import read_csv, Series, DataFrame\n",
    "import numpy as np, pandas as pd"
   ]
  },
  {
   "cell_type": "code",
   "execution_count": null,
   "id": "bfce988a",
   "metadata": {},
   "outputs": [],
   "source": [
    "def jsonKeys2int(x):\n",
    "    if isinstance(x, dict):\n",
    "        return {int(k):v for k,v in x.items()}\n",
    "    return x"
   ]
  },
  {
   "cell_type": "code",
   "execution_count": null,
   "id": "3bc5bb5f",
   "metadata": {},
   "outputs": [],
   "source": [
    "support_u_movies = json.load(open('support_u_movies.json', 'r'), object_hook=jsonKeys2int)\n",
    "train_u_movies = json.load(open('train_u_movies.json', 'r'), object_hook=jsonKeys2int)\n",
    "dictMerged3 = support_u_movies.copy()\n",
    "#dictMerged3.update(train_u_games)\n",
    "\n",
    "for i in list(train_u_movies.keys()):\n",
    "    if i in list(dictMerged3.keys()):\n",
    "        dictMerged3[i] += train_u_movies[i]\n",
    "    else:\n",
    "        dictMerged3[i] = train_u_movies[i]\n",
    "        \n",
    "with open('new_support_u_movies.json', 'w') as json_file:\n",
    "    json.dump(dictMerged3, json_file)\n",
    "new_support_u_movies = json.load(open('new_support_u_movies.json', 'r'), object_hook=jsonKeys2int)"
   ]
  },
  {
   "cell_type": "code",
   "execution_count": null,
   "id": "0602f011",
   "metadata": {},
   "outputs": [],
   "source": [
    "len(support_u_movies)"
   ]
  },
  {
   "cell_type": "code",
   "execution_count": null,
   "id": "bfe4fdd9",
   "metadata": {},
   "outputs": [],
   "source": [
    "len(train_u_movies)"
   ]
  },
  {
   "cell_type": "code",
   "execution_count": null,
   "id": "edbb716d",
   "metadata": {},
   "outputs": [],
   "source": [
    "len(new_support_u_movies)"
   ]
  },
  {
   "cell_type": "code",
   "execution_count": null,
   "id": "e38870f2",
   "metadata": {},
   "outputs": [],
   "source": [
    "support_u_movies_y = json.load(open('support_u_movies_y.json', 'r'), object_hook=jsonKeys2int)\n",
    "train_u_movies_y = json.load(open('train_u_movies_y.json', 'r'), object_hook=jsonKeys2int)\n",
    "dictMerged3_y = support_u_movies_y.copy()\n",
    "#dictMerged3_y.update(train_u_games_y)\n",
    "\n",
    "for i in list(train_u_movies_y.keys()):\n",
    "    if i in list(dictMerged3_y.keys()):\n",
    "        dictMerged3_y[i] += train_u_movies_y[i]\n",
    "    else:\n",
    "        dictMerged3_y[i] = train_u_movies_y[i]\n",
    "        \n",
    "with open('new_support_u_movies_y.json', 'w') as json_file:\n",
    "    json.dump(dictMerged3_y, json_file)\n",
    "new_support_u_movies_y = json.load(open('new_support_u_movies_y.json', 'r'), object_hook=jsonKeys2int)"
   ]
  },
  {
   "cell_type": "code",
   "execution_count": null,
   "id": "f322af5f",
   "metadata": {},
   "outputs": [],
   "source": [
    "len(new_support_u_movies)"
   ]
  },
  {
   "cell_type": "code",
   "execution_count": null,
   "id": "b657aa30",
   "metadata": {},
   "outputs": [],
   "source": [
    "len(dictMerged3)"
   ]
  },
  {
   "cell_type": "code",
   "execution_count": null,
   "id": "15347db4",
   "metadata": {},
   "outputs": [],
   "source": [
    "len(support_u_movies)"
   ]
  }
 ],
 "metadata": {
  "kernelspec": {
   "display_name": "Python 3 (ipykernel)",
   "language": "python",
   "name": "python3"
  },
  "language_info": {
   "codemirror_mode": {
    "name": "ipython",
    "version": 3
   },
   "file_extension": ".py",
   "mimetype": "text/x-python",
   "name": "python",
   "nbconvert_exporter": "python",
   "pygments_lexer": "ipython3",
   "version": "3.9.7"
  }
 },
 "nbformat": 4,
 "nbformat_minor": 5
}
