{
 "cells": [
  {
   "cell_type": "code",
   "execution_count": null,
   "id": "7073a43b",
   "metadata": {},
   "outputs": [],
   "source": [
    "import os\n",
    "import torch\n",
    "import pickle\n",
    "import tqdm\n",
    "import math\n",
    "import json\n",
    "\n",
    "from pandas import read_csv, Series, DataFrame\n",
    "import numpy as np, pandas as pd"
   ]
  },
  {
   "cell_type": "code",
   "execution_count": null,
   "id": "30a0a664",
   "metadata": {},
   "outputs": [],
   "source": [
    "def jsonKeys2int(x):\n",
    "    if isinstance(x, dict):\n",
    "        return {int(k):v for k,v in x.items()}\n",
    "    return x"
   ]
  },
  {
   "cell_type": "code",
   "execution_count": null,
   "id": "9b53af31",
   "metadata": {},
   "outputs": [],
   "source": [
    "support_item_users = json.load(open('support_m_users.json', 'r'), object_hook=jsonKeys2int)\n",
    "train_item_users = json.load(open('train_item_users.json', 'r'), object_hook=jsonKeys2int)\n",
    "dictMerged3 = support_item_users.copy()\n",
    "#dictMerged3.update(train_u_games)\n",
    "\n",
    "for i in list(train_item_users.keys()):\n",
    "    if i in list(dictMerged3.keys()):\n",
    "        dictMerged3[i] += train_item_users[i]\n",
    "    else:\n",
    "        dictMerged3[i] = train_item_users[i]\n",
    "        \n",
    "with open('new_support_item_users.json', 'w') as json_file:\n",
    "    json.dump(dictMerged3, json_file)\n",
    "new_support_item_users = json.load(open('new_support_item_users.json', 'r'), object_hook=jsonKeys2int)"
   ]
  },
  {
   "cell_type": "code",
   "execution_count": null,
   "id": "52722306",
   "metadata": {},
   "outputs": [],
   "source": [
    "len(support_item_users)"
   ]
  },
  {
   "cell_type": "code",
   "execution_count": null,
   "id": "5497d970",
   "metadata": {},
   "outputs": [],
   "source": [
    "len(train_item_users)"
   ]
  },
  {
   "cell_type": "code",
   "execution_count": null,
   "id": "0af31762",
   "metadata": {},
   "outputs": [],
   "source": [
    "len(new_support_item_users)"
   ]
  },
  {
   "cell_type": "code",
   "execution_count": null,
   "id": "d0510cf6",
   "metadata": {},
   "outputs": [],
   "source": [
    "support_item_users_y = json.load(open('support_m_users_y.json', 'r'), object_hook=jsonKeys2int)\n",
    "train_item_users_y = json.load(open('train_item_users_y.json', 'r'), object_hook=jsonKeys2int)\n",
    "dictMerged3_y = support_item_users_y.copy()\n",
    "#dictMerged3_y.update(train_u_games_y)\n",
    "\n",
    "for i in list(train_item_users_y.keys()):\n",
    "    if i in list(dictMerged3_y.keys()):\n",
    "        dictMerged3_y[i] += train_item_users_y[i]\n",
    "    else:\n",
    "        dictMerged3_y[i] = train_item_users_y[i]\n",
    "        \n",
    "with open('new_support_item_users_y.json', 'w') as json_file:\n",
    "    json.dump(dictMerged3_y, json_file)\n",
    "new_support_item_users_y = json.load(open('new_support_item_users_y.json', 'r'), object_hook=jsonKeys2int)"
   ]
  },
  {
   "cell_type": "code",
   "execution_count": null,
   "id": "332a8a64",
   "metadata": {},
   "outputs": [],
   "source": [
    "len(new_support_item_users)"
   ]
  },
  {
   "cell_type": "code",
   "execution_count": null,
   "id": "6f24a38c",
   "metadata": {},
   "outputs": [],
   "source": [
    "len(dictMerged3)"
   ]
  },
  {
   "cell_type": "code",
   "execution_count": null,
   "id": "289e8f95",
   "metadata": {},
   "outputs": [],
   "source": [
    "len(support_item_users)"
   ]
  }
 ],
 "metadata": {
  "kernelspec": {
   "display_name": "Python 3 (ipykernel)",
   "language": "python",
   "name": "python3"
  },
  "language_info": {
   "codemirror_mode": {
    "name": "ipython",
    "version": 3
   },
   "file_extension": ".py",
   "mimetype": "text/x-python",
   "name": "python",
   "nbconvert_exporter": "python",
   "pygments_lexer": "ipython3",
   "version": "3.9.7"
  }
 },
 "nbformat": 4,
 "nbformat_minor": 5
}
