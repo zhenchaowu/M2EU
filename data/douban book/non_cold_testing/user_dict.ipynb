{
 "cells": [
  {
   "cell_type": "code",
   "execution_count": null,
   "id": "35303cba",
   "metadata": {},
   "outputs": [],
   "source": [
    "import os\n",
    "import torch\n",
    "import pickle\n",
    "import tqdm\n",
    "import math\n",
    "import json\n",
    "\n",
    "from pandas import read_csv, Series, DataFrame\n",
    "import numpy as np, pandas as pd"
   ]
  },
  {
   "cell_type": "code",
   "execution_count": null,
   "id": "5497263f",
   "metadata": {},
   "outputs": [],
   "source": [
    "def jsonKeys2int(x):\n",
    "    if isinstance(x, dict):\n",
    "        return {int(k):v for k,v in x.items()}\n",
    "    return x"
   ]
  },
  {
   "cell_type": "code",
   "execution_count": null,
   "id": "7b1bcbe0",
   "metadata": {},
   "outputs": [],
   "source": [
    "support_u_books = json.load(open('support_u_books.json', 'r'), object_hook=jsonKeys2int)\n",
    "train_u_books = json.load(open('train_u_books.json', 'r'), object_hook=jsonKeys2int)\n",
    "dictMerged3 = support_u_books.copy()\n",
    "dictMerged3.update(train_u_books)\n",
    "with open('new_support_u_books.json', 'w') as json_file:\n",
    "    json.dump(dictMerged3, json_file)\n",
    "new_support_u_books = json.load(open('new_support_u_books.json', 'r'), object_hook=jsonKeys2int)"
   ]
  },
  {
   "cell_type": "code",
   "execution_count": null,
   "id": "c24e3484",
   "metadata": {},
   "outputs": [],
   "source": [
    "support_u_books_y = json.load(open('support_u_books_y.json', 'r'), object_hook=jsonKeys2int)\n",
    "train_u_books_y = json.load(open('train_u_books_y.json', 'r'), object_hook=jsonKeys2int)\n",
    "dictMerged3_y = support_u_books_y.copy()\n",
    "dictMerged3_y.update(train_u_books_y)\n",
    "with open('new_support_u_books_y.json', 'w') as json_file:\n",
    "    json.dump(dictMerged3_y, json_file)\n",
    "new_support_u_books_y = json.load(open('new_support_u_books_y.json', 'r'), object_hook=jsonKeys2int)"
   ]
  },
  {
   "cell_type": "code",
   "execution_count": null,
   "id": "84e8cc7f",
   "metadata": {},
   "outputs": [],
   "source": [
    "len(new_support_u_books_y)"
   ]
  },
  {
   "cell_type": "code",
   "execution_count": null,
   "id": "811732b4",
   "metadata": {},
   "outputs": [],
   "source": [
    "len(support_u_books)"
   ]
  },
  {
   "cell_type": "code",
   "execution_count": null,
   "id": "c9736468",
   "metadata": {},
   "outputs": [],
   "source": [
    "len(train_u_books)"
   ]
  },
  {
   "cell_type": "code",
   "execution_count": null,
   "id": "59391a40",
   "metadata": {},
   "outputs": [],
   "source": []
  }
 ],
 "metadata": {
  "kernelspec": {
   "display_name": "Python 3 (ipykernel)",
   "language": "python",
   "name": "python3"
  },
  "language_info": {
   "codemirror_mode": {
    "name": "ipython",
    "version": 3
   },
   "file_extension": ".py",
   "mimetype": "text/x-python",
   "name": "python",
   "nbconvert_exporter": "python",
   "pygments_lexer": "ipython3",
   "version": "3.9.7"
  }
 },
 "nbformat": 4,
 "nbformat_minor": 5
}
