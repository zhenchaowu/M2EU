{
 "cells": [
  {
   "cell_type": "code",
   "execution_count": null,
   "id": "e683a16e",
   "metadata": {},
   "outputs": [],
   "source": [
    "import os\n",
    "import torch\n",
    "import pickle\n",
    "import tqdm\n",
    "import math\n",
    "import json\n",
    "\n",
    "from pandas import read_csv, Series, DataFrame\n",
    "import numpy as np, pandas as pd"
   ]
  },
  {
   "cell_type": "code",
   "execution_count": null,
   "id": "dc0d546e",
   "metadata": {},
   "outputs": [],
   "source": [
    "def jsonKeys2int(x):\n",
    "    if isinstance(x, dict):\n",
    "        return {int(k):v for k,v in x.items()}\n",
    "    return x"
   ]
  },
  {
   "cell_type": "code",
   "execution_count": null,
   "id": "ea2f3583",
   "metadata": {},
   "outputs": [],
   "source": [
    "support_item_users = json.load(open('support_b_users.json', 'r'), object_hook=jsonKeys2int)\n",
    "train_item_users = json.load(open('train_b_users.json', 'r'), object_hook=jsonKeys2int)\n",
    "dictMerged3 = support_item_users.copy()\n",
    "#dictMerged3.update(train_u_games)\n",
    "\n",
    "for i in list(train_item_users.keys()):\n",
    "    if i in list(dictMerged3.keys()):\n",
    "        dictMerged3[i] += train_item_users[i]\n",
    "    else:\n",
    "        dictMerged3[i] = train_item_users[i]\n",
    "        \n",
    "with open('new_support_b_users.json', 'w') as json_file:\n",
    "    json.dump(dictMerged3, json_file)"
   ]
  },
  {
   "cell_type": "code",
   "execution_count": null,
   "id": "8f78702a",
   "metadata": {},
   "outputs": [],
   "source": [
    "len(support_item_users)"
   ]
  },
  {
   "cell_type": "code",
   "execution_count": null,
   "id": "68662216",
   "metadata": {},
   "outputs": [],
   "source": [
    "len(train_item_users)"
   ]
  },
  {
   "cell_type": "code",
   "execution_count": null,
   "id": "483da04b",
   "metadata": {},
   "outputs": [],
   "source": [
    "len(dictMerged3)"
   ]
  },
  {
   "cell_type": "code",
   "execution_count": null,
   "id": "d3b9ef53",
   "metadata": {},
   "outputs": [],
   "source": [
    "support_item_users_y = json.load(open('support_b_users_y.json', 'r'), object_hook=jsonKeys2int)\n",
    "train_item_users_y = json.load(open('train_b_users_y.json', 'r'), object_hook=jsonKeys2int)\n",
    "dictMerged3_y = support_item_users_y.copy()\n",
    "#dictMerged3_y.update(train_u_games_y)\n",
    "\n",
    "for i in list(train_item_users_y.keys()):\n",
    "    if i in list(dictMerged3_y.keys()):\n",
    "        dictMerged3_y[i] += train_item_users_y[i]\n",
    "    else:\n",
    "        dictMerged3_y[i] = train_item_users_y[i]\n",
    "        \n",
    "with open('new_support_b_users_y.json', 'w') as json_file:\n",
    "    json.dump(dictMerged3_y, json_file)"
   ]
  },
  {
   "cell_type": "code",
   "execution_count": null,
   "id": "d06cacaf",
   "metadata": {},
   "outputs": [],
   "source": [
    "len(support_item_users_y)"
   ]
  },
  {
   "cell_type": "code",
   "execution_count": null,
   "id": "c3bd0a25",
   "metadata": {},
   "outputs": [],
   "source": [
    "len(dictMerged3_y)"
   ]
  },
  {
   "cell_type": "code",
   "execution_count": null,
   "id": "a26a6b01",
   "metadata": {},
   "outputs": [],
   "source": [
    "len(train_item_users_y)"
   ]
  }
 ],
 "metadata": {
  "kernelspec": {
   "display_name": "Python 3 (ipykernel)",
   "language": "python",
   "name": "python3"
  },
  "language_info": {
   "codemirror_mode": {
    "name": "ipython",
    "version": 3
   },
   "file_extension": ".py",
   "mimetype": "text/x-python",
   "name": "python",
   "nbconvert_exporter": "python",
   "pygments_lexer": "ipython3",
   "version": "3.9.7"
  }
 },
 "nbformat": 4,
 "nbformat_minor": 5
}
